{
 "cells": [
  {
   "cell_type": "code",
   "execution_count": 1,
   "id": "1fc5c17c",
   "metadata": {},
   "outputs": [],
   "source": [
    "import numpy as np\n",
    "import matplotlib.pyplot as plt\n",
    "import tensorflow as tf \n",
    "import tensorflow_hub as tfhub\n",
    "import tensorflow_datasets as tfds"
   ]
  },
  {
   "cell_type": "code",
   "execution_count": 2,
   "id": "bc8092b2",
   "metadata": {},
   "outputs": [],
   "source": [
    "(raw_train, raw_validation, raw_test), metadata = tfds.load(\n",
    "    'cats_vs_dogs',\n",
    "    split=['train[:80%]', 'train[80%:90%]', 'train[90%:]'],\n",
    "    with_info=True,\n",
    "    as_supervised=True,\n",
    ")\n",
    "\n",
    "def format_image(image, label):\n",
    "    image = tf.image.resize(image, (224, 224)) / 255.0\n",
    "    return  image, label\n",
    "\n",
    "BATCH_SIZE = 16\n",
    "num_examples = metadata.splits['train'].num_examples\n",
    "num_classes = metadata.features['label'].num_classes\n",
    "\n",
    "train_batches = (raw_train.shuffle(num_examples // 4)\n",
    "                 .map(format_image).batch(BATCH_SIZE).prefetch(tf.data.AUTOTUNE))\n",
    "\n",
    "validation_batches = (raw_validation\n",
    "                      .map(format_image)\n",
    "                      .batch(BATCH_SIZE)\n",
    "                      .prefetch(tf.data.AUTOTUNE))\n",
    "\n",
    "test_batches = raw_test.map(format_image).batch(BATCH_SIZE)\n"
   ]
  },
  {
   "cell_type": "markdown",
   "id": "19a01e4d",
   "metadata": {},
   "source": [
    "### Model"
   ]
  },
  {
   "cell_type": "code",
   "execution_count": 3,
   "id": "7aa5f58e",
   "metadata": {},
   "outputs": [],
   "source": [
    "from tensorflow.keras.applications.resnet50 import ResNet50 "
   ]
  },
  {
   "cell_type": "code",
   "execution_count": 4,
   "id": "6c049e1f",
   "metadata": {
    "scrolled": true
   },
   "outputs": [],
   "source": [
    "base_model = ResNet50(input_shape=(224,224,3),\n",
    "                         include_top=False,pooling='avg')\n",
    "\n",
    "# Customize the output layers\n",
    "flatten_all = tf.keras.layers.Flatten()(base_model.output)\n",
    "Dense_1 = tf.keras.layers.Dense(units=512,activation='relu')(flatten_all)\n",
    "prediction_layer = tf.keras.layers.Dense(units=2, activation='softmax')(Dense_1)\n",
    "\n",
    "# Concatenate the model\n",
    "model = tf.keras.models.Model(inputs=base_model.input, outputs=prediction_layer)\n",
    "\n",
    "model.compile(optimizer='adam',\n",
    "                  loss='sparse_categorical_crossentropy',\n",
    "                  metrics=['accuracy'])\n",
    "\n",
    "# hist = model.fit(train_batches,\n",
    "#                  epochs=EPOCHS,\n",
    "#                  validation_data=validation_batches)\n",
    "\n",
    "# model.summary()"
   ]
  },
  {
   "cell_type": "markdown",
   "id": "15ae203c",
   "metadata": {},
   "source": [
    "## "
   ]
  },
  {
   "cell_type": "markdown",
   "id": "01bbfd88",
   "metadata": {},
   "source": [
    "## Quantization Aware Training with Keras Models"
   ]
  },
  {
   "cell_type": "code",
   "execution_count": 1,
   "id": "0146d47e",
   "metadata": {},
   "outputs": [],
   "source": [
    "import tensorflow_model_optimization as tfmot"
   ]
  },
  {
   "cell_type": "code",
   "execution_count": null,
   "id": "60d96de4",
   "metadata": {},
   "outputs": [],
   "source": [
    "tfmot.quantization.keras.quantiz"
   ]
  },
  {
   "cell_type": "code",
   "execution_count": 5,
   "id": "f86adfa2",
   "metadata": {},
   "outputs": [
    {
     "name": "stderr",
     "output_type": "stream",
     "text": [
      "C:\\Users\\user\\anaconda3\\envs\\tensorflow2\\lib\\site-packages\\keras\\layers\\wrappers.py:64: CustomMaskWarning: Custom mask layers require a config and must override get_config. When loading, the custom mask layer must be passed to the custom_objects argument.\n",
      "  config = {'layer': generic_utils.serialize_keras_object(self.layer)}\n",
      "C:\\Users\\user\\anaconda3\\envs\\tensorflow2\\lib\\site-packages\\keras\\engine\\functional.py:1410: CustomMaskWarning: Custom mask layers require a config and must override get_config. When loading, the custom mask layer must be passed to the custom_objects argument.\n",
      "  layer_config = serialize_layer_fn(layer)\n"
     ]
    },
    {
     "name": "stdout",
     "output_type": "stream",
     "text": [
      "Epoch 1/5\n",
      "1164/1164 [==============================] - 862s 731ms/step - loss: 0.6818 - accuracy: 0.5825 - val_loss: 1.0418 - val_accuracy: 0.4815\n",
      "Epoch 2/5\n",
      "1164/1164 [==============================] - 850s 730ms/step - loss: 0.6928 - accuracy: 0.5697 - val_loss: 0.7201 - val_accuracy: 0.5778\n",
      "Epoch 3/5\n",
      "1164/1164 [==============================] - 849s 729ms/step - loss: 0.6521 - accuracy: 0.6008 - val_loss: 0.6899 - val_accuracy: 0.5520\n",
      "Epoch 4/5\n",
      "1164/1164 [==============================] - 849s 729ms/step - loss: 0.6447 - accuracy: 0.6155 - val_loss: 0.7505 - val_accuracy: 0.5451\n",
      "Epoch 5/5\n",
      "1164/1164 [==============================] - 856s 735ms/step - loss: 0.6263 - accuracy: 0.6358 - val_loss: 0.6567 - val_accuracy: 0.5993\n"
     ]
    },
    {
     "data": {
      "text/plain": [
       "<keras.callbacks.History at 0x2d6797344c0>"
      ]
     },
     "execution_count": 5,
     "metadata": {},
     "output_type": "execute_result"
    }
   ],
   "source": [
    "import tensorflow_model_optimization as tfmot\n",
    "\n",
    "quantize_model = tfmot.quantization.keras.quantize_model\n",
    "\n",
    "# q_aware stands for for quantization aware.\n",
    "q_aware_model = quantize_model(model)\n",
    "\n",
    "# `quantize_model` requires a recompile.\n",
    "q_aware_model.compile(optimizer='adam',\n",
    "                  loss='sparse_categorical_crossentropy',\n",
    "                  metrics=['accuracy'])\n",
    "\n",
    "# q_aware_model.summary()\n",
    "q_aware_model.fit(train_batches, validation_data=validation_batches, epochs=5,)"
   ]
  },
  {
   "cell_type": "code",
   "execution_count": 7,
   "id": "250eb983",
   "metadata": {},
   "outputs": [
    {
     "name": "stderr",
     "output_type": "stream",
     "text": [
      "WARNING:absl:Found untraced functions such as conv1_conv_layer_call_fn, conv1_conv_layer_call_and_return_conditional_losses, conv1_relu_layer_call_fn, conv1_relu_layer_call_and_return_conditional_losses, conv2_block1_1_conv_layer_call_fn while saving (showing 5 of 605). These functions will not be directly callable after loading.\n"
     ]
    },
    {
     "name": "stdout",
     "output_type": "stream",
     "text": [
      "INFO:tensorflow:Assets written to: Test/assets\n"
     ]
    },
    {
     "name": "stderr",
     "output_type": "stream",
     "text": [
      "INFO:tensorflow:Assets written to: Test/assets\n"
     ]
    }
   ],
   "source": [
    "tf.saved_model.save(q_aware_model,'Test/')"
   ]
  },
  {
   "cell_type": "code",
   "execution_count": 6,
   "id": "2d7a9470",
   "metadata": {},
   "outputs": [
    {
     "name": "stderr",
     "output_type": "stream",
     "text": [
      "WARNING:absl:Found untraced functions such as conv1_conv_layer_call_fn, conv1_conv_layer_call_and_return_conditional_losses, conv1_relu_layer_call_fn, conv1_relu_layer_call_and_return_conditional_losses, conv2_block1_1_conv_layer_call_fn while saving (showing 5 of 605). These functions will not be directly callable after loading.\n"
     ]
    },
    {
     "name": "stdout",
     "output_type": "stream",
     "text": [
      "INFO:tensorflow:Assets written to: C:\\Users\\user\\AppData\\Local\\Temp\\tmpgys1ymhk\\assets\n"
     ]
    },
    {
     "name": "stderr",
     "output_type": "stream",
     "text": [
      "INFO:tensorflow:Assets written to: C:\\Users\\user\\AppData\\Local\\Temp\\tmpgys1ymhk\\assets\n"
     ]
    }
   ],
   "source": [
    "converter = tf.lite.TFLiteConverter.from_keras_model(q_aware_model)\n",
    "converter.optimizations = [tf.lite.Optimize.DEFAULT]\n",
    "\n",
    "quantized_tflite_model = converter.convert()"
   ]
  },
  {
   "cell_type": "code",
   "execution_count": 9,
   "id": "2f741545",
   "metadata": {},
   "outputs": [],
   "source": [
    "with open('test.tflite','wb') as f:\n",
    "    f.write(quantized_tflite_model)"
   ]
  },
  {
   "cell_type": "code",
   "execution_count": null,
   "id": "b4495cd1",
   "metadata": {},
   "outputs": [],
   "source": []
  }
 ],
 "metadata": {
  "kernelspec": {
   "display_name": "Python 3 (ipykernel)",
   "language": "python",
   "name": "python3"
  },
  "language_info": {
   "codemirror_mode": {
    "name": "ipython",
    "version": 3
   },
   "file_extension": ".py",
   "mimetype": "text/x-python",
   "name": "python",
   "nbconvert_exporter": "python",
   "pygments_lexer": "ipython3",
   "version": "3.8.12"
  }
 },
 "nbformat": 4,
 "nbformat_minor": 5
}
