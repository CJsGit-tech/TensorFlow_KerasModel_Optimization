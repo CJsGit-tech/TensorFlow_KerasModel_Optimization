{
 "cells": [
  {
   "cell_type": "code",
   "execution_count": 1,
   "id": "af9472be",
   "metadata": {},
   "outputs": [],
   "source": [
    "import numpy as np\n",
    "import matplotlib.pyplot as plt\n",
    "import tensorflow as tf \n",
    "import tensorflow_hub as tfhub\n",
    "import tensorflow_datasets as tfds"
   ]
  },
  {
   "cell_type": "markdown",
   "id": "448fa980",
   "metadata": {},
   "source": [
    "### Load Data"
   ]
  },
  {
   "cell_type": "code",
   "execution_count": 2,
   "id": "f45a6913",
   "metadata": {},
   "outputs": [],
   "source": [
    "(raw_train, raw_validation, raw_test), metadata = tfds.load(\n",
    "    'cats_vs_dogs',\n",
    "    split=['train[:80%]', 'train[80%:90%]', 'train[90%:]'],\n",
    "    with_info=True,\n",
    "    as_supervised=True,\n",
    ")\n",
    "\n",
    "num_examples = metadata.splits['train'].num_examples\n",
    "num_classes = metadata.features['label'].num_classes\n"
   ]
  },
  {
   "cell_type": "markdown",
   "id": "9d698aea",
   "metadata": {},
   "source": [
    "### Create TensorFlow Dataset"
   ]
  },
  {
   "cell_type": "code",
   "execution_count": 3,
   "id": "256e7e8b",
   "metadata": {},
   "outputs": [],
   "source": [
    "def format_image(image, label):\n",
    "    image = tf.image.resize(image, (224, 224)) / 255.0\n",
    "    return  image, label\n",
    "\n",
    "BATCH_SIZE = 32\n",
    "train_batches = raw_train.shuffle(num_examples // 4).map(format_image).batch(BATCH_SIZE).prefetch(tf.data.AUTOTUNE)\n",
    "validation_batches = raw_validation.map(format_image).batch(BATCH_SIZE).prefetch(tf.data.AUTOTUNE)\n",
    "test_batches = raw_test.map(format_image).batch(BATCH_SIZE)"
   ]
  },
  {
   "cell_type": "markdown",
   "id": "db06efd7",
   "metadata": {},
   "source": [
    "### Build Model\n",
    "[TF HUB](https://tfhub.dev/) <br>\n",
    "https://tfhub.dev/google/imagenet/resnet_v2_50/feature_vector/5"
   ]
  },
  {
   "cell_type": "code",
   "execution_count": 4,
   "id": "1c018b47",
   "metadata": {},
   "outputs": [
    {
     "name": "stdout",
     "output_type": "stream",
     "text": [
      "Epoch 1/6\n",
      "582/582 [==============================] - 52s 77ms/step - loss: 0.0474 - accuracy: 0.9828 - val_loss: 0.0387 - val_accuracy: 0.9871\n",
      "Epoch 2/6\n",
      "582/582 [==============================] - 46s 77ms/step - loss: 0.0282 - accuracy: 0.9903 - val_loss: 0.0463 - val_accuracy: 0.9858\n",
      "Epoch 3/6\n",
      "582/582 [==============================] - 46s 78ms/step - loss: 0.0209 - accuracy: 0.9924 - val_loss: 0.0505 - val_accuracy: 0.9854\n",
      "Epoch 4/6\n",
      "582/582 [==============================] - 46s 78ms/step - loss: 0.0174 - accuracy: 0.9944 - val_loss: 0.0497 - val_accuracy: 0.9875\n",
      "Epoch 5/6\n",
      "582/582 [==============================] - 46s 78ms/step - loss: 0.0152 - accuracy: 0.9946 - val_loss: 0.0456 - val_accuracy: 0.9880\n",
      "Epoch 6/6\n",
      "582/582 [==============================] - 45s 76ms/step - loss: 0.0145 - accuracy: 0.9949 - val_loss: 0.0576 - val_accuracy: 0.9858\n"
     ]
    }
   ],
   "source": [
    "model = tf.keras.Sequential([\n",
    "    tfhub.KerasLayer(\"https://tfhub.dev/google/imagenet/resnet_v2_50/feature_vector/5\",\n",
    "                   trainable=False),\n",
    "    tf.keras.layers.Dense(2, activation='softmax')\n",
    "])\n",
    "\n",
    "model.build([None, 224, 224, 3])\n",
    "model.compile(optimizer='adam',\n",
    "                  loss='sparse_categorical_crossentropy',\n",
    "                  metrics=['accuracy'])\n",
    "\n",
    "EPOCHS = 6\n",
    "hist = model.fit(train_batches,\n",
    "                 epochs=EPOCHS,\n",
    "                 validation_data=validation_batches)"
   ]
  },
  {
   "cell_type": "markdown",
   "id": "fa821d49",
   "metadata": {},
   "source": [
    "### Option A: Save model --> Read and Convert TF Lite Model --> Save TF Lite Model"
   ]
  },
  {
   "cell_type": "code",
   "execution_count": 5,
   "id": "bb11d60c",
   "metadata": {},
   "outputs": [
    {
     "name": "stdout",
     "output_type": "stream",
     "text": [
      "INFO:tensorflow:Assets written to: model_dir/post_training_demo/assets\n"
     ]
    },
    {
     "name": "stderr",
     "output_type": "stream",
     "text": [
      "INFO:tensorflow:Assets written to: model_dir/post_training_demo/assets\n"
     ]
    }
   ],
   "source": [
    "# Save Your Model\n",
    "tf.saved_model.save(model,export_dir='model_dir/post_training_demo/')\n",
    "\n",
    "\n",
    "# Setup Converter and read TF model directory\n",
    "converter = tf.lite.TFLiteConverter.from_saved_model('model_dir/post_training_demo/')\n",
    "\n",
    "##################\n",
    "# OPTIMIZATIONS ##\n",
    "###################\n",
    "\"\"\"\n",
    "Options:\n",
    "\n",
    "OPTIMIZE_FOR_SIZE Deprecated. Does the same as DEFAULT.\n",
    "OPTIMIZE_FOR_LATENCY Deprecated. Does the same as DEFAULT.\n",
    "EXPERIMENTAL_SPARSITY Experimental flag, subject to change.\n",
    "\"\"\"\n",
    "# Find balance Between Size and Latency\n",
    "converter.optimizations = [tf.lite.Optimize.DEFAULT] \n",
    "\n",
    "\"\"\"\n",
    "Full Integer Quantization or float16 Quantization\n",
    "\"\"\"\n",
    "# converter.target_spec.supported_types = [tf.float16]\n",
    "converter.target_spec.supported_ops = [tf.lite.OpsSet.TFLITE_BUILTINS_INT8]\n",
    "\n",
    "\n",
    "\"\"\"\n",
    "In order to quantize your model weights, \n",
    "you will need to give a sample dataset for calculations to infer the min max values \n",
    "\"\"\"\n",
    "def representative_data_generataor(num=100):\n",
    "    # allows concverter to inspect data and make optimizations selections (where to best make conversions)\n",
    "    for image, _ in test_batches.take(num):\n",
    "        yield [image]\n",
    "\n",
    "converter.representative_dataset = representative_data_generataor\n",
    "\n",
    "tflite_model = converter.convert()\n",
    "\n",
    "with open('model_dir/post_training_demo/CATS_DOGS_CLF2.tflite','wb') as file:\n",
    "    file.write(tflite_model)"
   ]
  },
  {
   "cell_type": "markdown",
   "id": "01951877",
   "metadata": {},
   "source": [
    "### Option B: Direct Conversion of Keras Model to TF Lite Model (Only Possible if full model is built by tf.keras)"
   ]
  },
  {
   "cell_type": "code",
   "execution_count": 6,
   "id": "f4d3898e",
   "metadata": {},
   "outputs": [
    {
     "name": "stdout",
     "output_type": "stream",
     "text": [
      "INFO:tensorflow:Assets written to: C:\\Users\\user\\AppData\\Local\\Temp\\tmpon4a1y05\\assets\n"
     ]
    },
    {
     "name": "stderr",
     "output_type": "stream",
     "text": [
      "INFO:tensorflow:Assets written to: C:\\Users\\user\\AppData\\Local\\Temp\\tmpon4a1y05\\assets\n"
     ]
    }
   ],
   "source": [
    "#####################################################################################\n",
    "# Setup Converter and read TF model directory\n",
    "converter = tf.lite.TFLiteConverter.from_keras_model(model)\n",
    "#####################################################################################\n",
    "\n",
    "\n",
    "##################\n",
    "# OPTIMIZATIONS ##\n",
    "###################\n",
    "\"\"\"\n",
    "Options:\n",
    "\n",
    "OPTIMIZE_FOR_SIZE Deprecated. Does the same as DEFAULT.\n",
    "OPTIMIZE_FOR_LATENCY Deprecated. Does the same as DEFAULT.\n",
    "EXPERIMENTAL_SPARSITY Experimental flag, subject to change.\n",
    "\"\"\"\n",
    "# Find balance Between Size and Latency\n",
    "converter.optimizations = [tf.lite.Optimize.DEFAULT] \n",
    "\n",
    "\"\"\"\n",
    "Full Integer Quantization or float16 Quantization\n",
    "\"\"\"\n",
    "# converter.target_spec.supported_types = [tf.float16]\n",
    "converter.target_spec.supported_ops = [tf.lite.OpsSet.TFLITE_BUILTINS_INT8]\n",
    "\n",
    "\n",
    "\"\"\"\n",
    "In order to quantize your model weights, \n",
    "you will need to give a sample dataset for calculations to infer the min max values \n",
    "\"\"\"\n",
    "def representative_data_generataor(num=200):\n",
    "    # allows concverter to inspect data and make optimizations selections (where to best make conversions)\n",
    "    for image, _ in test_batches.take(num):\n",
    "        yield [image]\n",
    "\n",
    "converter.representative_dataset = representative_data_generataor\n",
    "\n",
    "tflite_model = converter.convert()\n",
    "\n",
    "with open('model_dir/post_training_demo/CATS_DOGS_CLF_Keras.tflite','wb') as file:\n",
    "    file.write(tflite_model)"
   ]
  },
  {
   "cell_type": "markdown",
   "id": "9badb964",
   "metadata": {},
   "source": [
    "## "
   ]
  },
  {
   "cell_type": "markdown",
   "id": "4c787ca4",
   "metadata": {},
   "source": [
    "## Inferencing with TFLite Models Using Python Interpreter "
   ]
  },
  {
   "cell_type": "code",
   "execution_count": 7,
   "id": "2fd0800d",
   "metadata": {},
   "outputs": [],
   "source": [
    "model = tf.lite.Interpreter(model_path = 'model_dir/post_training_demo/CATS_DOGS_CLF_Keras.tflite'\n",
    "                            ,num_threads=16)\n",
    "model.allocate_tensors()"
   ]
  },
  {
   "cell_type": "code",
   "execution_count": 8,
   "id": "ed82a098",
   "metadata": {
    "scrolled": true
   },
   "outputs": [
    {
     "data": {
      "text/plain": [
       "[{'name': 'serving_default_keras_layer_input:0',\n",
       "  'index': 0,\n",
       "  'shape': array([  1, 224, 224,   3]),\n",
       "  'shape_signature': array([ -1, 224, 224,   3]),\n",
       "  'dtype': numpy.float32,\n",
       "  'quantization': (0.0, 0),\n",
       "  'quantization_parameters': {'scales': array([], dtype=float32),\n",
       "   'zero_points': array([], dtype=int32),\n",
       "   'quantized_dimension': 0},\n",
       "  'sparsity_parameters': {}}]"
      ]
     },
     "execution_count": 8,
     "metadata": {},
     "output_type": "execute_result"
    }
   ],
   "source": [
    "model.get_input_details()"
   ]
  },
  {
   "cell_type": "code",
   "execution_count": 9,
   "id": "fa663eb8",
   "metadata": {},
   "outputs": [
    {
     "data": {
      "text/plain": [
       "[{'name': 'serving_default_keras_layer_input:0',\n",
       "  'index': 0,\n",
       "  'shape': array([  1, 224, 224,   3]),\n",
       "  'shape_signature': array([ -1, 224, 224,   3]),\n",
       "  'dtype': numpy.float32,\n",
       "  'quantization': (0.0, 0),\n",
       "  'quantization_parameters': {'scales': array([], dtype=float32),\n",
       "   'zero_points': array([], dtype=int32),\n",
       "   'quantized_dimension': 0},\n",
       "  'sparsity_parameters': {}}]"
      ]
     },
     "execution_count": 9,
     "metadata": {},
     "output_type": "execute_result"
    }
   ],
   "source": [
    "model.get_input_details()"
   ]
  },
  {
   "cell_type": "code",
   "execution_count": 10,
   "id": "d6aa1e51",
   "metadata": {},
   "outputs": [],
   "source": [
    "predictions = []\n",
    "test_labels = [] \n",
    "test_imgs =  []\n",
    "\n",
    "input_index = model.get_input_details()[0][\"index\"]\n",
    "output_index = model.get_output_details()[0][\"index\"]\n",
    "\n",
    "test_batches = raw_test.map(format_image).batch(1) \n",
    "# Change BATCH_SIZE to 1 due to the require shape displayed above\n",
    "\n",
    "for img, label in test_batches.take(200):\n",
    "    # Step 1 set tensor\n",
    "    model.set_tensor(input_index, img)\n",
    "    \n",
    "    # Step 2 Run Inference\n",
    "    model.invoke()\n",
    "    pred = model.get_tensor(output_index)\n",
    "    ##\n",
    "    \n",
    "    predictions.append(pred)\n",
    "    test_labels.append(label.numpy()[0])"
   ]
  },
  {
   "cell_type": "code",
   "execution_count": 11,
   "id": "54f69427",
   "metadata": {},
   "outputs": [],
   "source": [
    "from sklearn.metrics import ConfusionMatrixDisplay,confusion_matrix,accuracy_score"
   ]
  },
  {
   "cell_type": "code",
   "execution_count": 12,
   "id": "7aafb9f3",
   "metadata": {},
   "outputs": [],
   "source": [
    "np_preds = []\n",
    "for res in predictions:\n",
    "    res = np.argmax(res,axis=1)\n",
    "    np_preds.append(res)"
   ]
  },
  {
   "cell_type": "code",
   "execution_count": 13,
   "id": "c2e95213",
   "metadata": {},
   "outputs": [],
   "source": [
    "cm = confusion_matrix(test_labels,np_preds)\n",
    "acc = accuracy_score(test_labels,np_preds)"
   ]
  },
  {
   "cell_type": "code",
   "execution_count": 14,
   "id": "403c3151",
   "metadata": {},
   "outputs": [
    {
     "name": "stdout",
     "output_type": "stream",
     "text": [
      "Accuracy Score out of 200 samples: 98.5 %\n"
     ]
    }
   ],
   "source": [
    "print(f\"Accuracy Score out of 200 samples: {acc * 100} %\")"
   ]
  },
  {
   "cell_type": "code",
   "execution_count": 15,
   "id": "f61e9bb8",
   "metadata": {
    "scrolled": true
   },
   "outputs": [
    {
     "data": {
      "image/png": "[encoded data removed]",
      "text/plain": [
       "<Figure size 432x288 with 2 Axes>"
      ]
     },
     "metadata": {
      "needs_background": "light"
     },
     "output_type": "display_data"
    }
   ],
   "source": [
    "cm_plot = ConfusionMatrixDisplay(cm,display_labels=['Cats','Dogs'])\n",
    "res = cm_plot.plot(cmap='Blues')"
   ]
  },
  {
   "cell_type": "code",
   "execution_count": null,
   "id": "b01a658a",
   "metadata": {},
   "outputs": [],
   "source": []
  }
 ],
 "metadata": {
  "kernelspec": {
   "display_name": "Python 3 (ipykernel)",
   "language": "python",
   "name": "python3"
  },
  "language_info": {
   "codemirror_mode": {
    "name": "ipython",
    "version": 3
   },
   "file_extension": ".py",
   "mimetype": "text/x-python",
   "name": "python",
   "nbconvert_exporter": "python",
   "pygments_lexer": "ipython3",
   "version": "3.8.12"
  }
 },
 "nbformat": 4,
 "nbformat_minor": 5
}
