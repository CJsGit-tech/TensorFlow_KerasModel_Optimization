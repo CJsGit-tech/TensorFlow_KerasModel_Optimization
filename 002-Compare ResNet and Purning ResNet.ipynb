{
 "cells": [
  {
   "cell_type": "markdown",
   "id": "4e297e33",
   "metadata": {},
   "source": [
    "## Compare Inference Time"
   ]
  },
  {
   "cell_type": "code",
   "execution_count": 3,
   "id": "88a325dc",
   "metadata": {},
   "outputs": [],
   "source": [
    "test_img_tensors = None\n",
    "test_batches = raw_test.map(format_image).batch(200)\n",
    "for img ,label in test_batches.take(1):\n",
    "    test_img_tensors = img\n",
    "    break"
   ]
  },
  {
   "cell_type": "code",
   "execution_count": 11,
   "id": "ee31fed0",
   "metadata": {},
   "outputs": [],
   "source": [
    "baseline_model = tf.saved_model.load('ResNet/')"
   ]
  },
  {
   "cell_type": "code",
   "execution_count": 4,
   "id": "6da64974",
   "metadata": {},
   "outputs": [
    {
     "name": "stdout",
     "output_type": "stream",
     "text": [
      "6.01 s ± 121 ms per loop (mean ± std. dev. of 7 runs, 1 loop each)\n"
     ]
    }
   ],
   "source": [
    "%%timeit\n",
    "baseline_model = tf.saved_model.load('ResNet/')\n"
   ]
  },
  {
   "cell_type": "code",
   "execution_count": 5,
   "id": "d415ba6d",
   "metadata": {},
   "outputs": [
    {
     "name": "stdout",
     "output_type": "stream",
     "text": [
      "6.48 s ± 166 ms per loop (mean ± std. dev. of 7 runs, 1 loop each)\n"
     ]
    }
   ],
   "source": [
    "%%timeit\n",
    "baseline_model = tf.saved_model.load('ResNet/')\n",
    "baseline_model(test_img_tensors)"
   ]
  },
  {
   "cell_type": "markdown",
   "id": "302f6757",
   "metadata": {},
   "source": [
    "#### Pruned Model"
   ]
  },
  {
   "cell_type": "code",
   "execution_count": 12,
   "id": "9b4c4206",
   "metadata": {},
   "outputs": [],
   "source": [
    "pruned_model = tf.saved_model.load('Pruning/')"
   ]
  },
  {
   "cell_type": "code",
   "execution_count": 6,
   "id": "beaf7bca",
   "metadata": {},
   "outputs": [
    {
     "name": "stdout",
     "output_type": "stream",
     "text": [
      "4.83 s ± 110 ms per loop (mean ± std. dev. of 7 runs, 1 loop each)\n"
     ]
    }
   ],
   "source": [
    "%%timeit\n",
    "pruned_model = tf.saved_model.load('Pruning/')"
   ]
  },
  {
   "cell_type": "code",
   "execution_count": 7,
   "id": "e9411e23",
   "metadata": {},
   "outputs": [
    {
     "name": "stdout",
     "output_type": "stream",
     "text": [
      "5.41 s ± 96.7 ms per loop (mean ± std. dev. of 7 runs, 1 loop each)\n"
     ]
    }
   ],
   "source": [
    "%%timeit\n",
    "pruned_model = tf.saved_model.load('Pruning/')\n",
    "pruned_model(test_img_tensors)"
   ]
  },
  {
   "cell_type": "markdown",
   "id": "2c62af9b",
   "metadata": {},
   "source": [
    "## "
   ]
  },
  {
   "cell_type": "markdown",
   "id": "4192ec56",
   "metadata": {},
   "source": [
    "### Accuracy Comparision"
   ]
  },
  {
   "cell_type": "code",
   "execution_count": 8,
   "id": "68337efa",
   "metadata": {},
   "outputs": [],
   "source": [
    "test_img_tensors = None\n",
    "y_true = None\n",
    "\n",
    "test_batches = raw_test.map(format_image).batch(200)\n",
    "for img ,label in test_batches.take(1):\n",
    "    test_img_tensors = img\n",
    "    y_true = label\n",
    "    break"
   ]
  },
  {
   "cell_type": "code",
   "execution_count": 19,
   "id": "611b7589",
   "metadata": {},
   "outputs": [],
   "source": [
    "baseline_preds = baseline_model(test_img_tensors)\n",
    "y_pred = np.argmax(baseline_preds,axis=1)"
   ]
  },
  {
   "cell_type": "code",
   "execution_count": 23,
   "id": "3d8fedf0",
   "metadata": {},
   "outputs": [
    {
     "data": {
      "text/plain": [
       "0.93"
      ]
     },
     "execution_count": 23,
     "metadata": {},
     "output_type": "execute_result"
    }
   ],
   "source": [
    "acc = tf.keras.metrics.Accuracy()\n",
    "acc.update_state(y_true.numpy(),y_pred)\n",
    "acc.result().numpy()"
   ]
  },
  {
   "cell_type": "code",
   "execution_count": 24,
   "id": "1c09741f",
   "metadata": {},
   "outputs": [
    {
     "data": {
      "text/plain": [
       "0.93"
      ]
     },
     "execution_count": 24,
     "metadata": {},
     "output_type": "execute_result"
    }
   ],
   "source": [
    "pruned_preds = pruned_model(test_img_tensors)\n",
    "y_pred = np.argmax(pruned_preds,axis=1)\n",
    "acc = tf.keras.metrics.Accuracy()\n",
    "acc.update_state(y_true.numpy(),y_pred)\n",
    "acc.result().numpy()"
   ]
  },
  {
   "cell_type": "markdown",
   "id": "2f07cf79",
   "metadata": {},
   "source": [
    "## "
   ]
  },
  {
   "cell_type": "code",
   "execution_count": null,
   "id": "0f2203ef",
   "metadata": {},
   "outputs": [],
   "source": []
  }
 ],
 "metadata": {
  "kernelspec": {
   "display_name": "Python 3 (ipykernel)",
   "language": "python",
   "name": "python3"
  },
  "language_info": {
   "codemirror_mode": {
    "name": "ipython",
    "version": 3
   },
   "file_extension": ".py",
   "mimetype": "text/x-python",
   "name": "python",
   "nbconvert_exporter": "python",
   "pygments_lexer": "ipython3",
   "version": "3.8.12"
  }
 },
 "nbformat": 4,
 "nbformat_minor": 5
}
